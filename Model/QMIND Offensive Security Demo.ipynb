{
 "cells": [
  {
   "cell_type": "code",
   "execution_count": 2,
   "metadata": {},
   "outputs": [
    {
     "name": "stderr",
     "output_type": "stream",
     "text": [
      "Using TensorFlow backend.\n",
      "/usr/local/lib/python3.6/dist-packages/tensorflow/python/framework/dtypes.py:516: FutureWarning:\n",
      "\n",
      "Passing (type, 1) or '1type' as a synonym of type is deprecated; in a future version of numpy, it will be understood as (type, (1,)) / '(1,)type'.\n",
      "\n",
      "/usr/local/lib/python3.6/dist-packages/tensorflow/python/framework/dtypes.py:517: FutureWarning:\n",
      "\n",
      "Passing (type, 1) or '1type' as a synonym of type is deprecated; in a future version of numpy, it will be understood as (type, (1,)) / '(1,)type'.\n",
      "\n",
      "/usr/local/lib/python3.6/dist-packages/tensorflow/python/framework/dtypes.py:518: FutureWarning:\n",
      "\n",
      "Passing (type, 1) or '1type' as a synonym of type is deprecated; in a future version of numpy, it will be understood as (type, (1,)) / '(1,)type'.\n",
      "\n",
      "/usr/local/lib/python3.6/dist-packages/tensorflow/python/framework/dtypes.py:519: FutureWarning:\n",
      "\n",
      "Passing (type, 1) or '1type' as a synonym of type is deprecated; in a future version of numpy, it will be understood as (type, (1,)) / '(1,)type'.\n",
      "\n",
      "/usr/local/lib/python3.6/dist-packages/tensorflow/python/framework/dtypes.py:520: FutureWarning:\n",
      "\n",
      "Passing (type, 1) or '1type' as a synonym of type is deprecated; in a future version of numpy, it will be understood as (type, (1,)) / '(1,)type'.\n",
      "\n",
      "/usr/local/lib/python3.6/dist-packages/tensorflow/python/framework/dtypes.py:525: FutureWarning:\n",
      "\n",
      "Passing (type, 1) or '1type' as a synonym of type is deprecated; in a future version of numpy, it will be understood as (type, (1,)) / '(1,)type'.\n",
      "\n",
      "/usr/local/lib/python3.6/dist-packages/tensorboard/compat/tensorflow_stub/dtypes.py:541: FutureWarning:\n",
      "\n",
      "Passing (type, 1) or '1type' as a synonym of type is deprecated; in a future version of numpy, it will be understood as (type, (1,)) / '(1,)type'.\n",
      "\n",
      "/usr/local/lib/python3.6/dist-packages/tensorboard/compat/tensorflow_stub/dtypes.py:542: FutureWarning:\n",
      "\n",
      "Passing (type, 1) or '1type' as a synonym of type is deprecated; in a future version of numpy, it will be understood as (type, (1,)) / '(1,)type'.\n",
      "\n",
      "/usr/local/lib/python3.6/dist-packages/tensorboard/compat/tensorflow_stub/dtypes.py:543: FutureWarning:\n",
      "\n",
      "Passing (type, 1) or '1type' as a synonym of type is deprecated; in a future version of numpy, it will be understood as (type, (1,)) / '(1,)type'.\n",
      "\n",
      "/usr/local/lib/python3.6/dist-packages/tensorboard/compat/tensorflow_stub/dtypes.py:544: FutureWarning:\n",
      "\n",
      "Passing (type, 1) or '1type' as a synonym of type is deprecated; in a future version of numpy, it will be understood as (type, (1,)) / '(1,)type'.\n",
      "\n",
      "/usr/local/lib/python3.6/dist-packages/tensorboard/compat/tensorflow_stub/dtypes.py:545: FutureWarning:\n",
      "\n",
      "Passing (type, 1) or '1type' as a synonym of type is deprecated; in a future version of numpy, it will be understood as (type, (1,)) / '(1,)type'.\n",
      "\n",
      "/usr/local/lib/python3.6/dist-packages/tensorboard/compat/tensorflow_stub/dtypes.py:550: FutureWarning:\n",
      "\n",
      "Passing (type, 1) or '1type' as a synonym of type is deprecated; in a future version of numpy, it will be understood as (type, (1,)) / '(1,)type'.\n",
      "\n"
     ]
    }
   ],
   "source": [
    "import os\n",
    "os.environ['TF_CPP_MIN_LOG_LEVEL'] = '3'\n",
    "from Model import Model\n",
    "from keras.models import load_model\n",
    "import matplotlib.pyplot as plt\n",
    "%matplotlib inline"
   ]
  },
  {
   "cell_type": "code",
   "execution_count": 3,
   "metadata": {},
   "outputs": [],
   "source": [
    "trainingSet = open('./5k2.txt','r').readlines() #Initial Training Set\n",
    "passwords = open(\"./5k.txt\", 'r').readlines() #We will try and generate as many of these as possible\n",
    "crackedList = []"
   ]
  },
  {
   "cell_type": "code",
   "execution_count": 4,
   "metadata": {},
   "outputs": [
    {
     "name": "stdout",
     "output_type": "stream",
     "text": [
      "## Loading Prepared Model... ##\n",
      "WARNING:tensorflow:From /usr/local/lib/python3.6/dist-packages/tensorflow/python/ops/math_grad.py:1250: add_dispatch_support.<locals>.wrapper (from tensorflow.python.ops.array_ops) is deprecated and will be removed in a future version.\n",
      "Instructions for updating:\n",
      "Use tf.where in 2.0, which has the same broadcast rule as np.where\n",
      "WARNING:tensorflow:From /usr/local/lib/python3.6/dist-packages/keras/backend/tensorflow_backend.py:422: The name tf.global_variables is deprecated. Please use tf.compat.v1.global_variables instead.\n",
      "\n",
      "## Model Successfully Loaded ##\n"
     ]
    }
   ],
   "source": [
    "m = Model(\"DemoModel\", \"./5k2.txt\")\n",
    "m.prepTrainingSet()\n",
    "print(\"## Loading Prepared Model... ##\")\n",
    "m.buildModel(0, 0)\n",
    "m.model = load_model(\"../TestModel.h5\")\n",
    "print(\"## Model Successfully Loaded ##\")"
   ]
  },
  {
   "cell_type": "code",
   "execution_count": 5,
   "metadata": {},
   "outputs": [],
   "source": [
    "epochLimit = 10"
   ]
  },
  {
   "cell_type": "code",
   "execution_count": null,
   "metadata": {},
   "outputs": [
    {
     "data": {
      "image/png": "[encoded data removed]",
      "text/plain": [
       "<Figure size 432x288 with 1 Axes>"
      ]
     },
     "metadata": {},
     "output_type": "display_data"
    },
    {
     "name": "stdout",
     "output_type": "stream",
     "text": [
      "Passwords Uncracked = 5086\n",
      "Passwords Cracked = 0\n",
      "## Training Set Prepared ##\n",
      "## Training Model ##\n",
      "Epoch Completed:  0\n",
      "Epoch Completed:  1\n",
      "Epoch Completed:  2\n",
      "Epoch Completed:  3\n",
      "Epoch Completed:  4\n",
      "Epoch Completed:  5\n",
      "Epoch Completed:  6\n",
      "Epoch Completed:  7\n",
      "Epoch Completed:  8\n",
      "Epoch Completed:  9\n",
      "## Attack Set created ##\n",
      "## Attacking Passwords ##\n",
      "Cracked: k65708419\n",
      "\n",
      "Cracked: owned76\n",
      "\n",
      "Cracked: 17noone10\n",
      "\n"
     ]
    },
    {
     "data": {
      "image/png": "[encoded data removed]",
      "text/plain": [
       "<Figure size 432x288 with 1 Axes>"
      ]
     },
     "metadata": {},
     "output_type": "display_data"
    },
    {
     "name": "stdout",
     "output_type": "stream",
     "text": [
      "Passwords Uncracked = 5083\n",
      "Passwords Cracked = 3\n",
      "## Training Set Prepared ##\n",
      "## Training Model ##\n",
      "Epoch Completed:  0\n",
      "Epoch Completed:  1\n",
      "Epoch Completed:  2\n",
      "Epoch Completed:  3\n",
      "Epoch Completed:  4\n",
      "Epoch Completed:  5\n",
      "Epoch Completed:  6\n",
      "Epoch Completed:  7\n",
      "Epoch Completed:  8\n",
      "Epoch Completed:  9\n",
      "## Attack Set created ##\n",
      "## Attacking Passwords ##\n",
      "Cracked: 1ronman\n",
      "\n",
      "Cracked: edward1998\n",
      "\n",
      "Cracked: kallie23\n",
      "\n"
     ]
    },
    {
     "data": {
      "image/png": "[encoded data removed]",
      "text/plain": [
       "<Figure size 432x288 with 1 Axes>"
      ]
     },
     "metadata": {},
     "output_type": "display_data"
    },
    {
     "name": "stdout",
     "output_type": "stream",
     "text": [
      "Passwords Uncracked = 5080\n",
      "Passwords Cracked = 6\n",
      "## Training Set Prepared ##\n",
      "## Training Model ##\n",
      "Epoch Completed:  0\n",
      "Epoch Completed:  1\n",
      "Epoch Completed:  2\n",
      "Epoch Completed:  3\n",
      "Epoch Completed:  4\n",
      "Epoch Completed:  5\n",
      "Epoch Completed:  6\n",
      "Epoch Completed:  7\n",
      "Epoch Completed:  8\n",
      "Epoch Completed:  9\n",
      "## Attack Set created ##\n",
      "## Attacking Passwords ##\n",
      "Cracked: shygirl13\n",
      "\n",
      "Cracked: hannah1\n",
      "\n"
     ]
    },
    {
     "data": {
      "image/png": "[encoded data removed]",
      "text/plain": [
       "<Figure size 432x288 with 1 Axes>"
      ]
     },
     "metadata": {},
     "output_type": "display_data"
    },
    {
     "name": "stdout",
     "output_type": "stream",
     "text": [
      "Passwords Uncracked = 5078\n",
      "Passwords Cracked = 8\n",
      "## Training Set Prepared ##\n",
      "## Training Model ##\n",
      "Epoch Completed:  0\n",
      "Epoch Completed:  1\n",
      "Epoch Completed:  2\n",
      "Epoch Completed:  3\n",
      "Epoch Completed:  4\n",
      "Epoch Completed:  5\n",
      "Epoch Completed:  6\n",
      "Epoch Completed:  7\n",
      "Epoch Completed:  8\n",
      "Epoch Completed:  9\n",
      "## Attack Set created ##\n",
      "## Attacking Passwords ##\n",
      "Cracked: brentm08\n",
      "\n",
      "Cracked: bully10\n",
      "\n",
      "Cracked: waiwai12\n",
      "\n"
     ]
    },
    {
     "data": {
      "image/png": "[encoded data removed]",
      "text/plain": [
       "<Figure size 432x288 with 1 Axes>"
      ]
     },
     "metadata": {},
     "output_type": "display_data"
    },
    {
     "name": "stdout",
     "output_type": "stream",
     "text": [
      "Passwords Uncracked = 5075\n",
      "Passwords Cracked = 11\n",
      "## Training Set Prepared ##\n",
      "## Training Model ##\n"
     ]
    }
   ],
   "source": [
    "while len(passwords) > 0:\n",
    "    m.drawPie(len(passwords), len(crackedList))\n",
    "    print(\"Passwords Uncracked = \" + str(len(passwords)))\n",
    "    print(\"Passwords Cracked = \" + str(len(crackedList)))\n",
    "\n",
    "    #Prepare trainingset\n",
    "    m.prepTrainingSet()\n",
    "    print(\"## Training Set Prepared ##\")\n",
    "\n",
    "    #Continue Training Model\n",
    "    print(\"## Training Model ##\")\n",
    "    m.continueTraining(epochLimit)\n",
    "\n",
    "    #Empty the attackSet\n",
    "    attackSet = []\n",
    "\n",
    "    #Generate 1000 passwords to use for attacking\n",
    "    for i in range(0, 1000):\n",
    "        attackSet.append(str(m.make_name(0)))\n",
    "    print(\"## Attack Set created ##\")\n",
    "\n",
    "    #Perform attack\n",
    "    print(\"## Attacking Passwords ##\")\n",
    "    m.attackList(passwords, crackedList)"
   ]
  }
 ],
 "metadata": {
  "kernelspec": {
   "display_name": "Python 3",
   "language": "python",
   "name": "python3"
  },
  "language_info": {
   "codemirror_mode": {
    "name": "ipython",
    "version": 3
   },
   "file_extension": ".py",
   "mimetype": "text/x-python",
   "name": "python",
   "nbconvert_exporter": "python",
   "pygments_lexer": "ipython3",
   "version": "3.6.9"
  }
 },
 "nbformat": 4,
 "nbformat_minor": 4
}
