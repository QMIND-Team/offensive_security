{
 "cells": [
  {
   "cell_type": "markdown",
   "metadata": {},
   "source": [
    "# Parsing and Model Training using Pokemon Method\n",
    "\n",
    "This script parses passwords and prepares them for use in the recurrent neural network\n",
    "It then trains the model and produces a list of 3 passwords over 5 epochs"
   ]
  },
  {
   "cell_type": "code",
   "execution_count": 1,
   "metadata": {
    "scrolled": true
   },
   "outputs": [],
   "source": [
    "import numpy as np\n",
    "\n",
    "passes = open(\"RandPass.txt\", 'r').readlines()  # Used as temporary storage for the file so that line endings can be removed\n",
    "\n",
    "full_list = [0]*len(passes) #creating a new list for stripped passwords\n",
    "p = 0\n",
    "\n",
    "for i in passes:\n",
    "    full_list[p] = i.rstrip(\"\\n\\r\") + \" \" # Remove line endings and add a space to indicate end of line\n",
    "    p=p+1\n",
    "\n",
    "char_to_index = dict((chr(i+31),i) for i in range(1,97))  # Creating an array of all characters that can be used with corresponding index value\n",
    "\n",
    "index_to_char =  dict((i, chr(i+31)) for i in range(1,97)) # Reverse of the previous"
   ]
  },
  {
   "cell_type": "markdown",
   "metadata": {},
   "source": [
    "The data must be one hot encoded in order to train the model and produce outputs"
   ]
  },
  {
   "cell_type": "code",
   "execution_count": 2,
   "metadata": {
    "scrolled": true
   },
   "outputs": [],
   "source": [
    "max_char = len(max(full_list, key=len))\n",
    "m = len(full_list)\n",
    "char_dim = len(char_to_index)\n",
    "\n",
    "X = np.zeros((m,max_char, char_dim)) # 3D array for storing one hot encoded characters\n",
    "Y = np.zeros((m,max_char, char_dim))\n",
    "\n",
    "for i in range(m):          # One hot encoding\n",
    "    password = list(full_list[i])\n",
    "    for j in range(len(password)):\n",
    "        X[i,j, char_to_index[password[j]]] = 1\n",
    "        if j < len(password)-1:\n",
    "            Y[i,j, char_to_index[password[j+1]]] = 1"
   ]
  },
  {
   "cell_type": "code",
   "execution_count": 3,
   "metadata": {
    "scrolled": true
   },
   "outputs": [
    {
     "name": "stderr",
     "output_type": "stream",
     "text": [
      "Using TensorFlow backend.\n"
     ]
    }
   ],
   "source": [
    "from keras.models import Sequential\n",
    "from keras.layers import LSTM, Dense\n",
    "from keras.callbacks import LambdaCallback\n",
    "\n",
    "model = Sequential()\n",
    "model.add(LSTM(256, input_shape=(max_char, char_dim), return_sequences=True))\n",
    "model.add(Dense(char_dim, activation='softmax'))\n",
    "\n",
    "model.compile(loss='categorical_crossentropy', optimizer='adam')"
   ]
  },
  {
   "cell_type": "code",
   "execution_count": 4,
   "metadata": {
    "scrolled": true
   },
   "outputs": [],
   "source": [
    "def make_name(model): # Create the name\n",
    "    name = []\n",
    "    x = np.zeros((1, max_char, char_dim))\n",
    "    end = False\n",
    "    i = 0\n",
    "    \n",
    "    while end==False:\n",
    "        probs = list(model.predict(x)[0,i])\n",
    "        probs = probs / np.sum(probs)\n",
    "        \n",
    "        index = np.random.choice(range(char_dim), p=probs) # Picks a random character based off of its probability\n",
    "        while i<5 and index == 1:\n",
    "            index = np.random.choice(range(char_dim), p=probs)\n",
    "            \n",
    "        if i == max_char-2:\n",
    "            character = ' '\n",
    "            end = True\n",
    "        else:\n",
    "            character = index_to_char[index]\n",
    "        name.append(character)\n",
    "        x[0, i+1, index] = 1\n",
    "        i += 1\n",
    "        if character == ' ':\n",
    "            end = True\n",
    "    \n",
    "    return(''.join(name))"
   ]
  },
  {
   "cell_type": "code",
   "execution_count": 5,
   "metadata": {
    "scrolled": true
   },
   "outputs": [],
   "source": [
    "def generate_name_loop(epoch, _):\n",
    "    print(\"Epoch Completed: \", epoch)\n",
    "    if epoch % 5 == 0:\n",
    "        \n",
    "        print('Names generated after epoch %d:' % epoch)\n",
    "\n",
    "        for i in range(3):\n",
    "            p = str(make_name(model))\n",
    "            print(p)\n",
    "        \n",
    "        \n",
    "    if epoch == 100 or epoch == 499:\n",
    "        \n",
    "        print('Names generated after epoch %d:' % epoch)\n",
    "\n",
    "        for i in range(1000):\n",
    "            make_name(model)\n",
    "        \n",
    "        print()"
   ]
  },
  {
   "cell_type": "code",
   "execution_count": null,
   "metadata": {
    "scrolled": true
   },
   "outputs": [
    {
     "name": "stdout",
     "output_type": "stream",
     "text": [
      "Epoch %d Completed 0\n",
      "Names generated after epoch 0:\n",
      "Biqoment6 \n",
      "hpaomove \n",
      "yas2nak \n",
      "Epoch %d Completed 1\n",
      "Epoch %d Completed 2\n",
      "Epoch %d Completed 3\n",
      "Epoch %d Completed 4\n",
      "Epoch %d Completed 5\n",
      "Names generated after epoch 5:\n",
      "ponica \n",
      "abdbennaf \n",
      "wD7dflhesUQ \n",
      "Epoch %d Completed 6\n",
      "Epoch %d Completed 7\n",
      "Epoch %d Completed 8\n",
      "Epoch %d Completed 9\n",
      "Epoch %d Completed 10\n",
      "Names generated after epoch 10:\n",
      "cybbf \n",
      "alear \n",
      "perta66 \n",
      "Epoch %d Completed 11\n",
      "Epoch %d Completed 12\n",
      "Epoch %d Completed 13\n",
      "Epoch %d Completed 14\n",
      "Epoch %d Completed 15\n",
      "Names generated after epoch 15:\n",
      "jomja \n",
      "93812594f \n",
      "07kh1 \n",
      "Epoch %d Completed 16\n",
      "Epoch %d Completed 17\n",
      "Epoch %d Completed 18\n",
      "Epoch %d Completed 19\n",
      "Epoch %d Completed 20\n",
      "Names generated after epoch 20:\n",
      "eampruze \n",
      "4071995 \n",
      "andrey2 \n",
      "Epoch %d Completed 21\n",
      "Epoch %d Completed 22\n",
      "Epoch %d Completed 23\n",
      "Epoch %d Completed 24\n",
      "Epoch %d Completed 25\n",
      "Names generated after epoch 25:\n",
      "542277 \n",
      "692964 \n",
      "es07001983 \n",
      "Epoch %d Completed 26\n"
     ]
    }
   ],
   "source": [
    "name_generator = LambdaCallback(on_epoch_end = generate_name_loop)\n",
    "\n",
    "model.fit(X, Y, batch_size=512, epochs=500, callbacks=[name_generator], verbose=0)"
   ]
  },
  {
   "cell_type": "code",
   "execution_count": null,
   "metadata": {},
   "outputs": [],
   "source": [
    "temp = open(\"NeuralGen2.txt\", \"a+\")\n",
    "for i in range(1000000):\n",
    "    x = str(make_name(model))\n",
    "    temp.write(x)\n",
    "    print(x)\n",
    "        "
   ]
  },
  {
   "cell_type": "code",
   "execution_count": null,
   "metadata": {},
   "outputs": [],
   "source": []
  }
 ],
 "metadata": {
  "kernelspec": {
   "display_name": "py37",
   "language": "python",
   "name": "py37"
  },
  "language_info": {
   "codemirror_mode": {
    "name": "ipython",
    "version": 3
   },
   "file_extension": ".py",
   "mimetype": "text/x-python",
   "name": "python",
   "nbconvert_exporter": "python",
   "pygments_lexer": "ipython3",
   "version": "3.7.5"
  },
  "varInspector": {
   "cols": {
    "lenName": 16,
    "lenType": 16,
    "lenVar": 40
   },
   "kernels_config": {
    "python": {
     "delete_cmd_postfix": "",
     "delete_cmd_prefix": "del ",
     "library": "var_list.py",
     "varRefreshCmd": "print(var_dic_list())"
    },
    "r": {
     "delete_cmd_postfix": ") ",
     "delete_cmd_prefix": "rm(",
     "library": "var_list.r",
     "varRefreshCmd": "cat(var_dic_list()) "
    }
   },
   "position": {
    "height": "345.85px",
    "left": "910px",
    "right": "20px",
    "top": "336px",
    "width": "667.5px"
   },
   "types_to_exclude": [
    "module",
    "function",
    "builtin_function_or_method",
    "instance",
    "_Feature"
   ],
   "window_display": false
  }
 },
 "nbformat": 4,
 "nbformat_minor": 2
}
